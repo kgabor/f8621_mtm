{
 "cells": [
  {
   "cell_type": "code",
   "execution_count": 31,
   "id": "50103039",
   "metadata": {},
   "outputs": [],
   "source": [
    "from astropy.table import Table, MaskedColumn\n",
    "from astropy.time import Time\n",
    "import astropy.io.ascii\n",
    "import numpy as np"
   ]
  },
  {
   "cell_type": "code",
   "execution_count": 54,
   "id": "f0e8af89",
   "metadata": {},
   "outputs": [],
   "source": [
    "%run -b -i \"../python/calculator.py\""
   ]
  },
  {
   "cell_type": "code",
   "execution_count": 33,
   "id": "e7d31bc4",
   "metadata": {},
   "outputs": [],
   "source": [
    "traw = Table.read('../data/asset1_transactions.csv', format='ascii.csv', converters={\n",
    "                  'quantity': [astropy.io.ascii.convert_numpy(np.float64)],\n",
    "                  'unit price': [astropy.io.ascii.convert_numpy(np.float64)],\n",
    "                  'total price': [astropy.io.ascii.convert_numpy(np.float64)]})"
   ]
  },
  {
   "cell_type": "code",
   "execution_count": 34,
   "id": "9be730af",
   "metadata": {},
   "outputs": [],
   "source": [
    "vraw = Table.read('../data/asset1_values.csv', format='ascii.csv', converters={\n",
    "                  'price': [astropy.io.ascii.convert_numpy(np.float64)],})\n",
    "vraw['date'] = Time(vraw['date'])"
   ]
  },
  {
   "cell_type": "code",
   "execution_count": 35,
   "id": "9df7c0d4",
   "metadata": {},
   "outputs": [
    {
     "data": {
      "text/html": [
       "<i>Table length=3</i>\n",
       "<table id=\"table140082112205872\" class=\"table-striped table-bordered table-condensed\">\n",
       "<thead><tr><th>dateS</th><th>asset</th><th>type</th><th>quantity</th><th>unit price</th><th>total price</th><th>dateE</th></tr></thead>\n",
       "<thead><tr><th>object</th><th>str2</th><th>str4</th><th>float64</th><th>float64</th><th>float64</th><th>object</th></tr></thead>\n",
       "<tr><td>2019-01-01 00:00:00.000</td><td>A1</td><td>buy</td><td>5.0</td><td>2.0</td><td>10.0</td><td>--</td></tr>\n",
       "<tr><td>2020-01-01 00:00:00.000</td><td>A1</td><td>buy</td><td>10.0</td><td>3.0</td><td>30.0</td><td>--</td></tr>\n",
       "<tr><td>2021-01-01 00:00:00.000</td><td>A1</td><td>sell</td><td>1.0</td><td>5.0</td><td>5.0</td><td>--</td></tr>\n",
       "</table>"
      ],
      "text/plain": [
       "<Table length=3>\n",
       "         dateS          asset type quantity unit price total price dateE \n",
       "         object          str2 str4 float64   float64     float64   object\n",
       "----------------------- ----- ---- -------- ---------- ----------- ------\n",
       "2019-01-01 00:00:00.000    A1  buy      5.0        2.0        10.0     --\n",
       "2020-01-01 00:00:00.000    A1  buy     10.0        3.0        30.0     --\n",
       "2021-01-01 00:00:00.000    A1 sell      1.0        5.0         5.0     --"
      ]
     },
     "execution_count": 35,
     "metadata": {},
     "output_type": "execute_result"
    }
   ],
   "source": [
    "prepareRawTransactions(traw)"
   ]
  },
  {
   "cell_type": "code",
   "execution_count": 36,
   "id": "38a04df6",
   "metadata": {},
   "outputs": [
    {
     "name": "stdout",
     "output_type": "stream",
     "text": [
      "======\n",
      "Sale 2021-01-01:1.0@5.0 -> \n",
      "Buys \n",
      "2019-01-01:5.0@2.0\n",
      "2020-01-01:10.0@3.0\n",
      "Using buy 0\n",
      "Remaining from buy : 4.0\n"
     ]
    }
   ],
   "source": [
    "packets = packetizeTransactions(traw, 'A1_')"
   ]
  },
  {
   "cell_type": "code",
   "execution_count": 37,
   "id": "81d1e6c6",
   "metadata": {},
   "outputs": [
    {
     "data": {
      "text/html": [
       "<i>Table length=3</i>\n",
       "<table id=\"table140082112236368\" class=\"table-striped table-bordered table-condensed\">\n",
       "<thead><tr><th>dateS</th><th>asset</th><th>quantity</th><th>priceS</th><th>dateE</th><th>priceE</th><th>packetId</th></tr></thead>\n",
       "<thead><tr><th>object</th><th>str2</th><th>float64</th><th>float64</th><th>object</th><th>float64</th><th>bytes20</th></tr></thead>\n",
       "<tr><td>2019-01-01 00:00:00.000</td><td>A1</td><td>1.0</td><td>2.0</td><td>2021-01-01 00:00:00.000</td><td>5.0</td><td>A1_001</td></tr>\n",
       "<tr><td>2019-01-01 00:00:00.000</td><td>A1</td><td>4.0</td><td>2.0</td><td>--</td><td>--</td><td>A1_003</td></tr>\n",
       "<tr><td>2020-01-01 00:00:00.000</td><td>A1</td><td>10.0</td><td>3.0</td><td>--</td><td>--</td><td>A1_002</td></tr>\n",
       "</table>"
      ],
      "text/plain": [
       "<Table length=3>\n",
       "         dateS          asset quantity  priceS          dateE           priceE packetId\n",
       "         object          str2 float64  float64          object         float64 bytes20 \n",
       "----------------------- ----- -------- ------- ----------------------- ------- --------\n",
       "2019-01-01 00:00:00.000    A1      1.0     2.0 2021-01-01 00:00:00.000     5.0   A1_001\n",
       "2019-01-01 00:00:00.000    A1      4.0     2.0                      --      --   A1_003\n",
       "2020-01-01 00:00:00.000    A1     10.0     3.0                      --      --   A1_002"
      ]
     },
     "execution_count": 37,
     "metadata": {},
     "output_type": "execute_result"
    }
   ],
   "source": [
    "packets"
   ]
  },
  {
   "cell_type": "code",
   "execution_count": 38,
   "id": "0f3d7a58",
   "metadata": {},
   "outputs": [
    {
     "data": {
      "text/html": [
       "<i>Table length=5</i>\n",
       "<table id=\"table140082112358816\" class=\"table-striped table-bordered table-condensed\">\n",
       "<thead><tr><th>date</th><th>price</th></tr></thead>\n",
       "<thead><tr><th>object</th><th>float64</th></tr></thead>\n",
       "<tr><td>2019-01-01 00:00:00.000</td><td>2.0</td></tr>\n",
       "<tr><td>2020-01-01 00:00:00.000</td><td>3.0</td></tr>\n",
       "<tr><td>2021-01-01 00:00:00.000</td><td>5.0</td></tr>\n",
       "<tr><td>2022-01-01 00:00:00.000</td><td>6.0</td></tr>\n",
       "<tr><td>2023-01-01 00:00:00.000</td><td>7.0</td></tr>\n",
       "</table>"
      ],
      "text/plain": [
       "<Table length=5>\n",
       "          date           price \n",
       "         object         float64\n",
       "----------------------- -------\n",
       "2019-01-01 00:00:00.000     2.0\n",
       "2020-01-01 00:00:00.000     3.0\n",
       "2021-01-01 00:00:00.000     5.0\n",
       "2022-01-01 00:00:00.000     6.0\n",
       "2023-01-01 00:00:00.000     7.0"
      ]
     },
     "execution_count": 38,
     "metadata": {},
     "output_type": "execute_result"
    }
   ],
   "source": [
    "vraw"
   ]
  },
  {
   "cell_type": "code",
   "execution_count": 39,
   "id": "a128c973",
   "metadata": {},
   "outputs": [],
   "source": [
    "packetGainsT, totalGainsT = calculateOneYearOneAssetTaxes(packets, 'A1', 2020, vraw, firstMMTaxYear=True)"
   ]
  },
  {
   "cell_type": "code",
   "execution_count": 40,
   "id": "8e90c119",
   "metadata": {},
   "outputs": [
    {
     "data": {
      "text/plain": [
       "(<Table length=6>\n",
       " tyear assetId packetId oBasisS MMBasisS  regInc ltcGain oBasisE MMBasisE urevInc\n",
       " int64 bytes20 bytes20  float64 float64  float64 float64 float64 float64  float64\n",
       " ----- ------- -------- ------- -------- ------- ------- ------- -------- -------\n",
       "  2020      A1   A1_001     2.0      3.0     2.0     0.0     4.0      5.0     2.0\n",
       "  2020      A1   A1_003     2.0      3.0     8.0     0.0     4.0      5.0    10.0\n",
       "  2020      A1   A1_002     3.0      3.0    20.0     0.0     5.0      5.0    30.0\n",
       "  2021      A1   A1_001     4.0      5.0     0.0     1.0     5.0      5.0    30.0\n",
       "  2021      A1   A1_003     4.0      5.0     4.0     0.0     5.0      6.0    34.0\n",
       "  2021      A1   A1_002     5.0      5.0    10.0     0.0     6.0      6.0    44.0,\n",
       " <Table length=2>\n",
       " tyear assetId urevIncS urevIncE  regInc ltcGain\n",
       " int64 bytes20 float64  float64  float64 float64\n",
       " ----- ------- -------- -------- ------- -------\n",
       "  2020      A1      0.0     30.0    30.0     0.0\n",
       "  2021      A1     30.0     44.0    14.0     1.0)"
      ]
     },
     "execution_count": 40,
     "metadata": {},
     "output_type": "execute_result"
    }
   ],
   "source": [
    "calculateOneYearOneAssetTaxes(packets, 'A1', 2021, vraw, packetGainsT=packetGainsT, totalGainsT=totalGainsT, firstMMTaxYear=False)"
   ]
  },
  {
   "cell_type": "code",
   "execution_count": 41,
   "id": "abdac0b8",
   "metadata": {},
   "outputs": [
    {
     "data": {
      "text/plain": [
       "(<Table length=8>\n",
       " tyear assetId packetId oBasisS MMBasisS  regInc ltcGain oBasisE MMBasisE urevInc\n",
       " int64 bytes20 bytes20  float64 float64  float64 float64 float64 float64  float64\n",
       " ----- ------- -------- ------- -------- ------- ------- ------- -------- -------\n",
       "  2020      A1   A1_001     2.0      3.0     2.0     0.0     4.0      5.0     2.0\n",
       "  2020      A1   A1_003     2.0      3.0     8.0     0.0     4.0      5.0    10.0\n",
       "  2020      A1   A1_002     3.0      3.0    20.0     0.0     5.0      5.0    30.0\n",
       "  2021      A1   A1_001     4.0      5.0     0.0     1.0     5.0      5.0    30.0\n",
       "  2021      A1   A1_003     4.0      5.0     4.0     0.0     5.0      6.0    34.0\n",
       "  2021      A1   A1_002     5.0      5.0    10.0     0.0     6.0      6.0    44.0\n",
       "  2022      A1   A1_003     5.0      6.0     4.0     0.0     6.0      7.0    48.0\n",
       "  2022      A1   A1_002     6.0      6.0    10.0     0.0     7.0      7.0    58.0,\n",
       " <Table length=3>\n",
       " tyear assetId urevIncS urevIncE  regInc ltcGain\n",
       " int64 bytes20 float64  float64  float64 float64\n",
       " ----- ------- -------- -------- ------- -------\n",
       "  2020      A1      0.0     30.0    30.0     0.0\n",
       "  2021      A1     30.0     44.0    14.0     1.0\n",
       "  2022      A1     44.0     58.0    14.0     0.0)"
      ]
     },
     "execution_count": 41,
     "metadata": {},
     "output_type": "execute_result"
    }
   ],
   "source": [
    "calculateOneYearOneAssetTaxes(packets, 'A1', 2022, vraw, packetGainsT=packetGainsT, totalGainsT=totalGainsT, firstMMTaxYear=False)"
   ]
  },
  {
   "cell_type": "code",
   "execution_count": 55,
   "id": "292160c0",
   "metadata": {},
   "outputs": [],
   "source": [
    "q = getValue(Time(\"2021-12-01\"),vraw, 'date', 'price')"
   ]
  },
  {
   "cell_type": "code",
   "execution_count": 56,
   "id": "ed1024a3",
   "metadata": {},
   "outputs": [
    {
     "data": {
      "text/plain": [
       "5.9150684931506845"
      ]
     },
     "execution_count": 56,
     "metadata": {},
     "output_type": "execute_result"
    }
   ],
   "source": [
    "q"
   ]
  },
  {
   "cell_type": "code",
   "execution_count": 49,
   "id": "28cf5eec",
   "metadata": {},
   "outputs": [
    {
     "data": {
      "text/plain": [
       "5.9150684931506845"
      ]
     },
     "execution_count": 49,
     "metadata": {},
     "output_type": "execute_result"
    }
   ],
   "source": [
    "q.value"
   ]
  },
  {
   "cell_type": "code",
   "execution_count": 50,
   "id": "f939d0d3",
   "metadata": {},
   "outputs": [
    {
     "data": {
      "text/latex": [
       "$5.9150685 \\; \\mathrm{}$"
      ],
      "text/plain": [
       "<Quantity 5.91506849>"
      ]
     },
     "execution_count": 50,
     "metadata": {},
     "output_type": "execute_result"
    }
   ],
   "source": [
    "q"
   ]
  },
  {
   "cell_type": "code",
   "execution_count": 53,
   "id": "d8a96221",
   "metadata": {},
   "outputs": [
    {
     "data": {
      "text/plain": [
       "5.9150684931506845"
      ]
     },
     "execution_count": 53,
     "metadata": {},
     "output_type": "execute_result"
    }
   ],
   "source": [
    "q.value"
   ]
  },
  {
   "cell_type": "code",
   "execution_count": null,
   "id": "3b71b5e6",
   "metadata": {},
   "outputs": [],
   "source": []
  }
 ],
 "metadata": {
  "kernelspec": {
   "display_name": "Python 3 (ipykernel)",
   "language": "python",
   "name": "python3"
  },
  "language_info": {
   "codemirror_mode": {
    "name": "ipython",
    "version": 3
   },
   "file_extension": ".py",
   "mimetype": "text/x-python",
   "name": "python",
   "nbconvert_exporter": "python",
   "pygments_lexer": "ipython3",
   "version": "3.8.8"
  }
 },
 "nbformat": 4,
 "nbformat_minor": 5
}
