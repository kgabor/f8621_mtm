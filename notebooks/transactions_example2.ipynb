{
 "cells": [
  {
   "cell_type": "code",
   "execution_count": 9,
   "id": "50103039",
   "metadata": {},
   "outputs": [],
   "source": [
    "from astropy.table import Table, MaskedColumn\n",
    "from astropy.time import Time\n",
    "import astropy.io.ascii\n",
    "import numpy as np"
   ]
  },
  {
   "cell_type": "code",
   "execution_count": 10,
   "id": "f0e8af89",
   "metadata": {},
   "outputs": [],
   "source": [
    "%run -b -i \"../python/calculator.py\""
   ]
  },
  {
   "cell_type": "code",
   "execution_count": 11,
   "id": "e7d31bc4",
   "metadata": {},
   "outputs": [],
   "source": [
    "traw = Table.read('../data/asset1_transactions.csv', format='ascii.csv', converters={\n",
    "                  'quantity': [astropy.io.ascii.convert_numpy(np.float64)],\n",
    "                  'unit price': [astropy.io.ascii.convert_numpy(np.float64)],\n",
    "                  'total price': [astropy.io.ascii.convert_numpy(np.float64)]})"
   ]
  },
  {
   "cell_type": "code",
   "execution_count": 12,
   "id": "9be730af",
   "metadata": {},
   "outputs": [],
   "source": [
    "vraw = Table.read('../data/asset1_values.csv', format='ascii.csv', converters={\n",
    "                  'price': [astropy.io.ascii.convert_numpy(np.float64)],})\n",
    "vraw['date'] = Time(vraw['date'])"
   ]
  },
  {
   "cell_type": "code",
   "execution_count": 13,
   "id": "9df7c0d4",
   "metadata": {},
   "outputs": [
    {
     "data": {
      "text/html": [
       "<i>Table length=3</i>\n",
       "<table id=\"table140643272806704\" class=\"table-striped table-bordered table-condensed\">\n",
       "<thead><tr><th>dateS</th><th>asset</th><th>type</th><th>quantity</th><th>unit price</th><th>total price</th><th>dateE</th></tr></thead>\n",
       "<thead><tr><th>object</th><th>str2</th><th>str4</th><th>float64</th><th>float64</th><th>float64</th><th>object</th></tr></thead>\n",
       "<tr><td>2019-01-01 00:00:00.000</td><td>A1</td><td>buy</td><td>5.0</td><td>2.0</td><td>10.0</td><td>--</td></tr>\n",
       "<tr><td>2020-01-01 00:00:00.000</td><td>A1</td><td>buy</td><td>10.0</td><td>3.0</td><td>30.0</td><td>--</td></tr>\n",
       "<tr><td>2021-01-01 00:00:00.000</td><td>A1</td><td>sell</td><td>1.0</td><td>5.0</td><td>5.0</td><td>--</td></tr>\n",
       "</table>"
      ],
      "text/plain": [
       "<Table length=3>\n",
       "         dateS          asset type quantity unit price total price dateE \n",
       "         object          str2 str4 float64   float64     float64   object\n",
       "----------------------- ----- ---- -------- ---------- ----------- ------\n",
       "2019-01-01 00:00:00.000    A1  buy      5.0        2.0        10.0     --\n",
       "2020-01-01 00:00:00.000    A1  buy     10.0        3.0        30.0     --\n",
       "2021-01-01 00:00:00.000    A1 sell      1.0        5.0         5.0     --"
      ]
     },
     "execution_count": 13,
     "metadata": {},
     "output_type": "execute_result"
    }
   ],
   "source": [
    "prepareRawTransactions(traw)"
   ]
  },
  {
   "cell_type": "code",
   "execution_count": 15,
   "id": "38a04df6",
   "metadata": {},
   "outputs": [],
   "source": [
    "packets = packetizeTransactions(traw)"
   ]
  },
  {
   "cell_type": "code",
   "execution_count": 19,
   "id": "81d1e6c6",
   "metadata": {},
   "outputs": [
    {
     "data": {
      "text/html": [
       "<i>Table length=3</i>\n",
       "<table id=\"table140643229923168\" class=\"table-striped table-bordered table-condensed\">\n",
       "<thead><tr><th>dateS</th><th>asset</th><th>quantity</th><th>priceS</th><th>dateE</th><th>priceE</th><th>pId</th></tr></thead>\n",
       "<thead><tr><th>object</th><th>str2</th><th>float64</th><th>float64</th><th>object</th><th>float64</th><th>int64</th></tr></thead>\n",
       "<tr><td>2019-01-01 00:00:00.000</td><td>A1</td><td>1.0</td><td>2.0</td><td>2021-01-01 00:00:00.000</td><td>5.0</td><td>1</td></tr>\n",
       "<tr><td>2019-01-01 00:00:00.000</td><td>A1</td><td>4.0</td><td>2.0</td><td>--</td><td>--</td><td>3</td></tr>\n",
       "<tr><td>2020-01-01 00:00:00.000</td><td>A1</td><td>10.0</td><td>3.0</td><td>--</td><td>--</td><td>2</td></tr>\n",
       "</table>"
      ],
      "text/plain": [
       "<Table length=3>\n",
       "         dateS          asset quantity  priceS          dateE           priceE  pId \n",
       "         object          str2 float64  float64          object         float64 int64\n",
       "----------------------- ----- -------- ------- ----------------------- ------- -----\n",
       "2019-01-01 00:00:00.000    A1      1.0     2.0 2021-01-01 00:00:00.000     5.0     1\n",
       "2019-01-01 00:00:00.000    A1      4.0     2.0                      --      --     3\n",
       "2020-01-01 00:00:00.000    A1     10.0     3.0                      --      --     2"
      ]
     },
     "execution_count": 19,
     "metadata": {},
     "output_type": "execute_result"
    }
   ],
   "source": [
    "packets"
   ]
  },
  {
   "cell_type": "code",
   "execution_count": 20,
   "id": "0eccc95c",
   "metadata": {},
   "outputs": [
    {
     "data": {
      "text/plain": [
       "dtype([('dateS', 'O'), ('asset', '<U2'), ('quantity', '<f8'), ('priceS', '<f8'), ('dateE', 'O'), ('priceE', '<f8'), ('pId', '<i8')])"
      ]
     },
     "execution_count": 20,
     "metadata": {},
     "output_type": "execute_result"
    }
   ],
   "source": [
    "packets.dtype"
   ]
  },
  {
   "cell_type": "code",
   "execution_count": null,
   "id": "fb2f7ef9",
   "metadata": {},
   "outputs": [],
   "source": []
  }
 ],
 "metadata": {
  "kernelspec": {
   "display_name": "Python 3 (ipykernel)",
   "language": "python",
   "name": "python3"
  },
  "language_info": {
   "codemirror_mode": {
    "name": "ipython",
    "version": 3
   },
   "file_extension": ".py",
   "mimetype": "text/x-python",
   "name": "python",
   "nbconvert_exporter": "python",
   "pygments_lexer": "ipython3",
   "version": "3.8.8"
  }
 },
 "nbformat": 4,
 "nbformat_minor": 5
}
