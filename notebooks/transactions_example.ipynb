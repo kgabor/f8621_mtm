{
 "cells": [
  {
   "cell_type": "code",
   "execution_count": 1,
   "id": "50103039",
   "metadata": {},
   "outputs": [],
   "source": [
    "from astropy.table import Table, MaskedColumn\n",
    "from astropy.time import Time\n",
    "import astropy.io.ascii\n",
    "import numpy as np"
   ]
  },
  {
   "cell_type": "code",
   "execution_count": 2,
   "id": "e7d31bc4",
   "metadata": {},
   "outputs": [],
   "source": [
    "traw = Table.read('../data/asset1_transactions.csv', format='ascii.csv', converters={\n",
    "                  'quantity': [astropy.io.ascii.convert_numpy(np.float64)],\n",
    "                  'unit price': [astropy.io.ascii.convert_numpy(np.float64)],\n",
    "                  'total price': [astropy.io.ascii.convert_numpy(np.float64)]})"
   ]
  },
  {
   "cell_type": "code",
   "execution_count": 3,
   "id": "14667561",
   "metadata": {},
   "outputs": [],
   "source": [
    "traw['date'] = Time(traw['date'])\n",
    "traw.rename_column('date', 'dateS')\n",
    "traw.add_column(MaskedColumn(traw['dateS'], name='dateE', mask=True))"
   ]
  },
  {
   "cell_type": "code",
   "execution_count": 4,
   "id": "a4d98a6a",
   "metadata": {},
   "outputs": [],
   "source": [
    "traw.sort(keys=['dateS',])"
   ]
  },
  {
   "cell_type": "code",
   "execution_count": 12,
   "id": "9fc86347",
   "metadata": {},
   "outputs": [],
   "source": [
    "packets = traw[traw['type'] == 'buy']\n",
    "packets.remove_columns(['type','total price'])\n",
    "packets.rename_columns(['unit price'],['priceS'])\n",
    "packets.add_column(MaskedColumn(np.zeros(len(packets)), name='priceE', mask=True))"
   ]
  },
  {
   "cell_type": "code",
   "execution_count": 13,
   "id": "5b46a6cd",
   "metadata": {},
   "outputs": [
    {
     "data": {
      "text/html": [
       "<i>Table length=2</i>\n",
       "<table id=\"table139763015940512\" class=\"table-striped table-bordered table-condensed\">\n",
       "<thead><tr><th>dateS</th><th>asset</th><th>quantity</th><th>priceS</th><th>dateE</th><th>priceE</th></tr></thead>\n",
       "<thead><tr><th>object</th><th>str2</th><th>float64</th><th>float64</th><th>object</th><th>float64</th></tr></thead>\n",
       "<tr><td>2019-01-01 00:00:00.000</td><td>A1</td><td>5.0</td><td>2.0</td><td>--</td><td>--</td></tr>\n",
       "<tr><td>2020-01-01 00:00:00.000</td><td>A1</td><td>10.0</td><td>3.0</td><td>--</td><td>--</td></tr>\n",
       "</table>"
      ],
      "text/plain": [
       "<Table length=2>\n",
       "         dateS          asset quantity  priceS dateE   priceE\n",
       "         object          str2 float64  float64 object float64\n",
       "----------------------- ----- -------- ------- ------ -------\n",
       "2019-01-01 00:00:00.000    A1      5.0     2.0     --      --\n",
       "2020-01-01 00:00:00.000    A1     10.0     3.0     --      --"
      ]
     },
     "execution_count": 13,
     "metadata": {},
     "output_type": "execute_result"
    }
   ],
   "source": [
    "packets"
   ]
  },
  {
   "cell_type": "code",
   "execution_count": 14,
   "id": "13a4a98c",
   "metadata": {},
   "outputs": [],
   "source": [
    "selltable = traw[traw['type'] == 'sell']"
   ]
  },
  {
   "cell_type": "code",
   "execution_count": 15,
   "id": "47ca26dc",
   "metadata": {},
   "outputs": [
    {
     "data": {
      "text/html": [
       "<i>Table length=3</i>\n",
       "<table id=\"table139763016721840\" class=\"table-striped table-bordered table-condensed\">\n",
       "<thead><tr><th>dateS</th><th>asset</th><th>type</th><th>quantity</th><th>unit price</th><th>total price</th><th>dateE</th></tr></thead>\n",
       "<thead><tr><th>object</th><th>str2</th><th>str4</th><th>float64</th><th>float64</th><th>float64</th><th>object</th></tr></thead>\n",
       "<tr><td>2019-01-01 00:00:00.000</td><td>A1</td><td>buy</td><td>5.0</td><td>2.0</td><td>10.0</td><td>--</td></tr>\n",
       "<tr><td>2020-01-01 00:00:00.000</td><td>A1</td><td>buy</td><td>10.0</td><td>3.0</td><td>30.0</td><td>--</td></tr>\n",
       "<tr><td>2021-01-01 00:00:00.000</td><td>A1</td><td>sell</td><td>1.0</td><td>5.0</td><td>5.0</td><td>--</td></tr>\n",
       "</table>"
      ],
      "text/plain": [
       "<Table length=3>\n",
       "         dateS          asset type quantity unit price total price dateE \n",
       "         object          str2 str4 float64   float64     float64   object\n",
       "----------------------- ----- ---- -------- ---------- ----------- ------\n",
       "2019-01-01 00:00:00.000    A1  buy      5.0        2.0        10.0     --\n",
       "2020-01-01 00:00:00.000    A1  buy     10.0        3.0        30.0     --\n",
       "2021-01-01 00:00:00.000    A1 sell      1.0        5.0         5.0     --"
      ]
     },
     "execution_count": 15,
     "metadata": {},
     "output_type": "execute_result"
    }
   ],
   "source": [
    "traw"
   ]
  },
  {
   "cell_type": "code",
   "execution_count": 16,
   "id": "27c0cd38",
   "metadata": {},
   "outputs": [
    {
     "data": {
      "text/html": [
       "<i>Table length=1</i>\n",
       "<table id=\"table139763015939216\" class=\"table-striped table-bordered table-condensed\">\n",
       "<thead><tr><th>dateS</th><th>asset</th><th>type</th><th>quantity</th><th>unit price</th><th>total price</th><th>dateE</th></tr></thead>\n",
       "<thead><tr><th>object</th><th>str2</th><th>str4</th><th>float64</th><th>float64</th><th>float64</th><th>object</th></tr></thead>\n",
       "<tr><td>2021-01-01 00:00:00.000</td><td>A1</td><td>sell</td><td>1.0</td><td>5.0</td><td>5.0</td><td>--</td></tr>\n",
       "</table>"
      ],
      "text/plain": [
       "<Table length=1>\n",
       "         dateS          asset type quantity unit price total price dateE \n",
       "         object          str2 str4 float64   float64     float64   object\n",
       "----------------------- ----- ---- -------- ---------- ----------- ------\n",
       "2021-01-01 00:00:00.000    A1 sell      1.0        5.0         5.0     --"
      ]
     },
     "execution_count": 16,
     "metadata": {},
     "output_type": "execute_result"
    }
   ],
   "source": [
    "selltable"
   ]
  },
  {
   "cell_type": "code",
   "execution_count": 17,
   "id": "fa3678f2",
   "metadata": {},
   "outputs": [],
   "source": [
    "eps = 1e-6\n",
    "for sale in selltable:\n",
    "    i_consider = np.searchsorted(packets['dateS'], sale['dateS'], side='right')\n",
    "    i_unclosed = np.flatnonzero(packets['dateE'].mask[:i_consider])\n",
    "    saleUnits = sale['quantity']\n",
    "    ii = 0\n",
    "    while saleUnits > 0.:\n",
    "        if len(i_unclosed) <= ii:\n",
    "            raise ValueError(\"No match found for sale.\")\n",
    "        irec = i_unclosed[ii]\n",
    "        packets['dateE'].mask[irec] = False        \n",
    "        packets['dateE'][irec] = sale['dateS']\n",
    "        packets['priceE'][irec] = sale['unit price']\n",
    "        if saleUnits > packets['quantity'][irec]:\n",
    "            saleUnits -= packets['quantity'][irec] # Still to match sale\n",
    "        else:\n",
    "            r = packets['quantity'][irec] - saleUnits\n",
    "            packets.insert_row(irec+1, packets[irec])\n",
    "            packets['quantity'][irec] = saleUnits\n",
    "            irec += 1\n",
    "            packets['quantity'][irec] = r\n",
    "            packets['dateE'].mask[irec] = True\n",
    "            packets['priceE'].mask[irec] = True\n",
    "            saleUnits = 0.\n",
    "        ii += 1"
   ]
  },
  {
   "cell_type": "code",
   "execution_count": 18,
   "id": "c7dfb6a6",
   "metadata": {},
   "outputs": [
    {
     "name": "stdout",
     "output_type": "stream",
     "text": [
      "         dateS          asset quantity priceS          dateE          priceE\n",
      "----------------------- ----- -------- ------ ----------------------- ------\n",
      "2019-01-01 00:00:00.000    A1      1.0    2.0 2021-01-01 00:00:00.000    5.0\n",
      "2019-01-01 00:00:00.000    A1      4.0    2.0                      --     --\n",
      "2020-01-01 00:00:00.000    A1     10.0    3.0                      --     --\n"
     ]
    }
   ],
   "source": [
    "print(packets)"
   ]
  },
  {
   "cell_type": "code",
   "execution_count": null,
   "id": "30cf540d",
   "metadata": {},
   "outputs": [],
   "source": []
  }
 ],
 "metadata": {
  "kernelspec": {
   "display_name": "Python 3 (ipykernel)",
   "language": "python",
   "name": "python3"
  },
  "language_info": {
   "codemirror_mode": {
    "name": "ipython",
    "version": 3
   },
   "file_extension": ".py",
   "mimetype": "text/x-python",
   "name": "python",
   "nbconvert_exporter": "python",
   "pygments_lexer": "ipython3",
   "version": "3.8.8"
  }
 },
 "nbformat": 4,
 "nbformat_minor": 5
}
