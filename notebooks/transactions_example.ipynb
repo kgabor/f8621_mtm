{
 "cells": [
  {
   "cell_type": "code",
   "execution_count": 29,
   "id": "50103039",
   "metadata": {},
   "outputs": [],
   "source": [
    "from astropy.table import Table, MaskedColumn\n",
    "from astropy.time import Time\n",
    "import astropy.io.ascii\n",
    "import numpy as np"
   ]
  },
  {
   "cell_type": "code",
   "execution_count": 30,
   "id": "e7d31bc4",
   "metadata": {},
   "outputs": [],
   "source": [
    "traw = Table.read('../data/asset1_transactions.csv', format='ascii.csv', converters={\n",
    "                  'quantity': [astropy.io.ascii.convert_numpy(np.float64)],\n",
    "                  'unit price': [astropy.io.ascii.convert_numpy(np.float64)],\n",
    "                  'total price': [astropy.io.ascii.convert_numpy(np.float64)]})"
   ]
  },
  {
   "cell_type": "code",
   "execution_count": 31,
   "id": "9df7c0d4",
   "metadata": {},
   "outputs": [],
   "source": [
    "traw['date'] = Time(traw['date'])\n",
    "traw.rename_column('date', 'dateS')\n",
    "traw.add_column(MaskedColumn(traw['dateS'], name='dateE', mask=True))\n",
    "traw.add_column(np.arange(1,len(traw)+1), name='pId')"
   ]
  },
  {
   "cell_type": "code",
   "execution_count": 32,
   "id": "ccc1c210",
   "metadata": {},
   "outputs": [
    {
     "data": {
      "text/html": [
       "<i>Table length=3</i>\n",
       "<table id=\"table139763016723856\" class=\"table-striped table-bordered table-condensed\">\n",
       "<thead><tr><th>dateS</th><th>asset</th><th>type</th><th>quantity</th><th>unit price</th><th>total price</th><th>dateE</th><th>pId</th></tr></thead>\n",
       "<thead><tr><th>object</th><th>str2</th><th>str4</th><th>float64</th><th>float64</th><th>float64</th><th>object</th><th>int64</th></tr></thead>\n",
       "<tr><td>2019-01-01 00:00:00.000</td><td>A1</td><td>buy</td><td>5.0</td><td>2.0</td><td>10.0</td><td>--</td><td>1</td></tr>\n",
       "<tr><td>2020-01-01 00:00:00.000</td><td>A1</td><td>buy</td><td>10.0</td><td>3.0</td><td>30.0</td><td>--</td><td>2</td></tr>\n",
       "<tr><td>2021-01-01 00:00:00.000</td><td>A1</td><td>sell</td><td>1.0</td><td>5.0</td><td>5.0</td><td>--</td><td>3</td></tr>\n",
       "</table>"
      ],
      "text/plain": [
       "<Table length=3>\n",
       "         dateS          asset type quantity unit price total price dateE   pId \n",
       "         object          str2 str4 float64   float64     float64   object int64\n",
       "----------------------- ----- ---- -------- ---------- ----------- ------ -----\n",
       "2019-01-01 00:00:00.000    A1  buy      5.0        2.0        10.0     --     1\n",
       "2020-01-01 00:00:00.000    A1  buy     10.0        3.0        30.0     --     2\n",
       "2021-01-01 00:00:00.000    A1 sell      1.0        5.0         5.0     --     3"
      ]
     },
     "execution_count": 32,
     "metadata": {},
     "output_type": "execute_result"
    }
   ],
   "source": [
    "traw"
   ]
  },
  {
   "cell_type": "code",
   "execution_count": 33,
   "id": "04ac2480",
   "metadata": {},
   "outputs": [],
   "source": [
    "traw.sort(keys=['dateS',])"
   ]
  },
  {
   "cell_type": "code",
   "execution_count": 34,
   "id": "58370ce6",
   "metadata": {},
   "outputs": [],
   "source": [
    "packets = traw[traw['type'] == 'buy']\n",
    "packets.remove_columns(['type','total price'])\n",
    "packets.rename_columns(['unit price'],['priceS'])\n",
    "packets.add_column(MaskedColumn(np.zeros(len(packets)), name='priceE', mask=True))"
   ]
  },
  {
   "cell_type": "code",
   "execution_count": 35,
   "id": "649f0c64",
   "metadata": {},
   "outputs": [
    {
     "data": {
      "text/html": [
       "<i>Table length=2</i>\n",
       "<table id=\"table139763015527872\" class=\"table-striped table-bordered table-condensed\">\n",
       "<thead><tr><th>dateS</th><th>asset</th><th>quantity</th><th>priceS</th><th>dateE</th><th>pId</th><th>priceE</th></tr></thead>\n",
       "<thead><tr><th>object</th><th>str2</th><th>float64</th><th>float64</th><th>object</th><th>int64</th><th>float64</th></tr></thead>\n",
       "<tr><td>2019-01-01 00:00:00.000</td><td>A1</td><td>5.0</td><td>2.0</td><td>--</td><td>1</td><td>--</td></tr>\n",
       "<tr><td>2020-01-01 00:00:00.000</td><td>A1</td><td>10.0</td><td>3.0</td><td>--</td><td>2</td><td>--</td></tr>\n",
       "</table>"
      ],
      "text/plain": [
       "<Table length=2>\n",
       "         dateS          asset quantity  priceS dateE   pId   priceE\n",
       "         object          str2 float64  float64 object int64 float64\n",
       "----------------------- ----- -------- ------- ------ ----- -------\n",
       "2019-01-01 00:00:00.000    A1      5.0     2.0     --     1      --\n",
       "2020-01-01 00:00:00.000    A1     10.0     3.0     --     2      --"
      ]
     },
     "execution_count": 35,
     "metadata": {},
     "output_type": "execute_result"
    }
   ],
   "source": [
    "packets"
   ]
  },
  {
   "cell_type": "code",
   "execution_count": 36,
   "id": "cce07dc9",
   "metadata": {},
   "outputs": [],
   "source": [
    "selltable = traw[traw['type'] == 'sell']"
   ]
  },
  {
   "cell_type": "code",
   "execution_count": 37,
   "id": "05fc8774",
   "metadata": {},
   "outputs": [
    {
     "data": {
      "text/html": [
       "<i>Table length=3</i>\n",
       "<table id=\"table139763016723856\" class=\"table-striped table-bordered table-condensed\">\n",
       "<thead><tr><th>dateS</th><th>asset</th><th>type</th><th>quantity</th><th>unit price</th><th>total price</th><th>dateE</th><th>pId</th></tr></thead>\n",
       "<thead><tr><th>object</th><th>str2</th><th>str4</th><th>float64</th><th>float64</th><th>float64</th><th>object</th><th>int64</th></tr></thead>\n",
       "<tr><td>2019-01-01 00:00:00.000</td><td>A1</td><td>buy</td><td>5.0</td><td>2.0</td><td>10.0</td><td>--</td><td>1</td></tr>\n",
       "<tr><td>2020-01-01 00:00:00.000</td><td>A1</td><td>buy</td><td>10.0</td><td>3.0</td><td>30.0</td><td>--</td><td>2</td></tr>\n",
       "<tr><td>2021-01-01 00:00:00.000</td><td>A1</td><td>sell</td><td>1.0</td><td>5.0</td><td>5.0</td><td>--</td><td>3</td></tr>\n",
       "</table>"
      ],
      "text/plain": [
       "<Table length=3>\n",
       "         dateS          asset type quantity unit price total price dateE   pId \n",
       "         object          str2 str4 float64   float64     float64   object int64\n",
       "----------------------- ----- ---- -------- ---------- ----------- ------ -----\n",
       "2019-01-01 00:00:00.000    A1  buy      5.0        2.0        10.0     --     1\n",
       "2020-01-01 00:00:00.000    A1  buy     10.0        3.0        30.0     --     2\n",
       "2021-01-01 00:00:00.000    A1 sell      1.0        5.0         5.0     --     3"
      ]
     },
     "execution_count": 37,
     "metadata": {},
     "output_type": "execute_result"
    }
   ],
   "source": [
    "traw"
   ]
  },
  {
   "cell_type": "code",
   "execution_count": 38,
   "id": "e688b90a",
   "metadata": {},
   "outputs": [
    {
     "data": {
      "text/html": [
       "<i>Table length=1</i>\n",
       "<table id=\"table139763015527440\" class=\"table-striped table-bordered table-condensed\">\n",
       "<thead><tr><th>dateS</th><th>asset</th><th>type</th><th>quantity</th><th>unit price</th><th>total price</th><th>dateE</th><th>pId</th></tr></thead>\n",
       "<thead><tr><th>object</th><th>str2</th><th>str4</th><th>float64</th><th>float64</th><th>float64</th><th>object</th><th>int64</th></tr></thead>\n",
       "<tr><td>2021-01-01 00:00:00.000</td><td>A1</td><td>sell</td><td>1.0</td><td>5.0</td><td>5.0</td><td>--</td><td>3</td></tr>\n",
       "</table>"
      ],
      "text/plain": [
       "<Table length=1>\n",
       "         dateS          asset type quantity unit price total price dateE   pId \n",
       "         object          str2 str4 float64   float64     float64   object int64\n",
       "----------------------- ----- ---- -------- ---------- ----------- ------ -----\n",
       "2021-01-01 00:00:00.000    A1 sell      1.0        5.0         5.0     --     3"
      ]
     },
     "execution_count": 38,
     "metadata": {},
     "output_type": "execute_result"
    }
   ],
   "source": [
    "selltable"
   ]
  },
  {
   "cell_type": "code",
   "execution_count": 39,
   "id": "eb7e2a81",
   "metadata": {},
   "outputs": [],
   "source": [
    "npId = len(traw)+1\n",
    "for sale in selltable:\n",
    "    i_consider = np.searchsorted(packets['dateS'], sale['dateS'], side='right')\n",
    "    i_unclosed = np.flatnonzero(packets['dateE'].mask[:i_consider])\n",
    "    saleUnits = sale['quantity']\n",
    "    ii = 0\n",
    "    while saleUnits > 0.:\n",
    "        if len(i_unclosed) <= ii:\n",
    "            raise ValueError(\"No match found for sale.\")\n",
    "        irec = i_unclosed[ii]\n",
    "        packets['dateE'].mask[irec] = False        \n",
    "        packets['dateE'][irec] = sale['dateS']\n",
    "        packets['priceE'][irec] = sale['unit price']\n",
    "        if saleUnits > packets['quantity'][irec]:\n",
    "            saleUnits -= packets['quantity'][irec] # Still to match sale\n",
    "        else:\n",
    "            r = packets['quantity'][irec] - saleUnits\n",
    "            packets.insert_row(irec+1, packets[irec])\n",
    "            packets['quantity'][irec] = saleUnits\n",
    "            irec += 1\n",
    "            packets['quantity'][irec] = r\n",
    "            packets['dateE'].mask[irec] = True\n",
    "            packets['priceE'].mask[irec] = True\n",
    "            packets['pId'][irec] = npId\n",
    "            npId += 1\n",
    "            saleUnits = 0.\n",
    "        ii += 1"
   ]
  },
  {
   "cell_type": "code",
   "execution_count": 40,
   "id": "340fa578",
   "metadata": {},
   "outputs": [
    {
     "name": "stdout",
     "output_type": "stream",
     "text": [
      "         dateS          asset quantity priceS          dateE          pId priceE\n",
      "----------------------- ----- -------- ------ ----------------------- --- ------\n",
      "2019-01-01 00:00:00.000    A1      1.0    2.0 2021-01-01 00:00:00.000   1    5.0\n",
      "2019-01-01 00:00:00.000    A1      4.0    2.0                      --   4     --\n",
      "2020-01-01 00:00:00.000    A1     10.0    3.0                      --   2     --\n"
     ]
    }
   ],
   "source": [
    "print(packets)"
   ]
  },
  {
   "cell_type": "code",
   "execution_count": 47,
   "id": "3c7b8c89",
   "metadata": {},
   "outputs": [],
   "source": [
    "t1 = Time('2000-01-01')\n",
    "t2 = Time('2000-04-15')"
   ]
  },
  {
   "cell_type": "code",
   "execution_count": 49,
   "id": "5f7b664d",
   "metadata": {},
   "outputs": [
    {
     "data": {
      "text/latex": [
       "$0.28767123 \\; \\mathrm{}$"
      ],
      "text/plain": [
       "<Quantity 0.28767123>"
      ]
     },
     "execution_count": 49,
     "metadata": {},
     "output_type": "execute_result"
    }
   ],
   "source": [
    "def getValue(t, valueT, k1, k2):\n",
    "    if not np.all(valueT[k1][1:] - valueT[k1][:-1] >=0):\n",
    "        raise ValueError(\"valueT is not monotonic increasing in dates\")\n",
    "    i = np.searchsorted(valueT[k1], t)\n",
    "    if i < len(valueT):\n",
    "        if valueT[k1][i] == t:\n",
    "            return valueT[k2][i]\n",
    "        if i==0:\n",
    "            print(\"WARNING: Value data starts later than interested dates\")\n",
    "            return valueT[k2][0]\n",
    "        vlast = valueT[k2][i-1]\n",
    "        return vlast + (valueT[k2][i] - vlast) * (t - valueT[k1][i-1]) / (valueT[k1][i] - valueT[k1][i-1])\n",
    "    else:\n",
    "        print(\"WARNING: Value data ends earlier than interested dates\")\n",
    "        return valueT[k2][-1]"
   ]
  },
  {
   "cell_type": "code",
   "execution_count": null,
   "id": "f1b77227",
   "metadata": {},
   "outputs": [],
   "source": []
  }
 ],
 "metadata": {
  "kernelspec": {
   "display_name": "Python 3 (ipykernel)",
   "language": "python",
   "name": "python3"
  },
  "language_info": {
   "codemirror_mode": {
    "name": "ipython",
    "version": 3
   },
   "file_extension": ".py",
   "mimetype": "text/x-python",
   "name": "python",
   "nbconvert_exporter": "python",
   "pygments_lexer": "ipython3",
   "version": "3.8.8"
  }
 },
 "nbformat": 4,
 "nbformat_minor": 5
}
