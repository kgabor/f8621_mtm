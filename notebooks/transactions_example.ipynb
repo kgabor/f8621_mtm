{
 "cells": [
  {
   "cell_type": "code",
   "execution_count": 2,
   "id": "50103039",
   "metadata": {},
   "outputs": [],
   "source": [
    "from astropy.table import Table\n",
    "from astropy.time import Time"
   ]
  },
  {
   "cell_type": "code",
   "execution_count": 4,
   "id": "4dd225a4",
   "metadata": {},
   "outputs": [],
   "source": [
    "tm = ['2020-01-05', '2020-01-06' ]\n",
    "tms = Time(tm)"
   ]
  },
  {
   "cell_type": "code",
   "execution_count": 7,
   "id": "f15453cd",
   "metadata": {},
   "outputs": [],
   "source": [
    "T = Table([tms, tms], names=('id','assetId','type','validityS', 'validityE'))"
   ]
  },
  {
   "cell_type": "code",
   "execution_count": 11,
   "id": "bd54f788",
   "metadata": {},
   "outputs": [],
   "source": [
    "T.sort(keys=('vend',))"
   ]
  },
  {
   "cell_type": "code",
   "execution_count": 21,
   "id": "3f34d097",
   "metadata": {},
   "outputs": [
    {
     "data": {
      "text/html": [
       "<i>Table length=2</i>\n",
       "<table id=\"table139655212853328-617994\" class=\"table-striped table-bordered table-condensed\">\n",
       "<thead><tr><th>idx</th><th>vstart</th><th>vend</th></tr></thead>\n",
       "<tr><td>0</td><td>2020-01-05 00:00:00.000</td><td>2020-01-05 00:00:00.000</td></tr>\n",
       "<tr><td>1</td><td>2020-01-06 00:00:00.000</td><td>2020-01-06 00:00:00.000</td></tr>\n",
       "</table><style>table.dataTable {clear: both; width: auto !important; margin: 0 !important;}\n",
       ".dataTables_info, .dataTables_length, .dataTables_filter, .dataTables_paginate{\n",
       "display: inline-block; margin-right: 1em; }\n",
       ".paginate_button { margin-right: 5px; }\n",
       "</style>\n",
       "<script>\n",
       "\n",
       "var astropy_sort_num = function(a, b) {\n",
       "    var a_num = parseFloat(a);\n",
       "    var b_num = parseFloat(b);\n",
       "\n",
       "    if (isNaN(a_num) && isNaN(b_num))\n",
       "        return ((a < b) ? -1 : ((a > b) ? 1 : 0));\n",
       "    else if (!isNaN(a_num) && !isNaN(b_num))\n",
       "        return ((a_num < b_num) ? -1 : ((a_num > b_num) ? 1 : 0));\n",
       "    else\n",
       "        return isNaN(a_num) ? -1 : 1;\n",
       "}\n",
       "\n",
       "require.config({paths: {\n",
       "    datatables: 'https://cdn.datatables.net/1.10.12/js/jquery.dataTables.min'\n",
       "}});\n",
       "require([\"datatables\"], function(){\n",
       "    console.log(\"$('#table139655212853328-617994').dataTable()\");\n",
       "    \n",
       "jQuery.extend( jQuery.fn.dataTableExt.oSort, {\n",
       "    \"optionalnum-asc\": astropy_sort_num,\n",
       "    \"optionalnum-desc\": function (a,b) { return -astropy_sort_num(a, b); }\n",
       "});\n",
       "\n",
       "    $('#table139655212853328-617994').dataTable({\n",
       "        order: [],\n",
       "        pageLength: 50,\n",
       "        lengthMenu: [[10, 25, 50, 100, 500, 1000, -1], [10, 25, 50, 100, 500, 1000, 'All']],\n",
       "        pagingType: \"full_numbers\",\n",
       "        columnDefs: [{targets: [0], type: \"optionalnum\"}]\n",
       "    });\n",
       "});\n",
       "</script>\n"
      ],
      "text/plain": [
       "<IPython.core.display.HTML object>"
      ]
     },
     "execution_count": 21,
     "metadata": {},
     "output_type": "execute_result"
    }
   ],
   "source": [
    "T.show_in_notebook()"
   ]
  },
  {
   "cell_type": "code",
   "execution_count": 13,
   "id": "315b1589",
   "metadata": {},
   "outputs": [],
   "source": [
    "c1 = T['vstart']"
   ]
  },
  {
   "cell_type": "code",
   "execution_count": 15,
   "id": "64533aea",
   "metadata": {},
   "outputs": [
    {
     "data": {
      "text/plain": [
       "<Time object: scale='utc' format='iso' value=['2020-01-05 00:00:00.000' '2020-01-06 00:00:00.000']>"
      ]
     },
     "execution_count": 15,
     "metadata": {},
     "output_type": "execute_result"
    }
   ],
   "source": [
    "c1"
   ]
  },
  {
   "cell_type": "code",
   "execution_count": 18,
   "id": "e7d31bc4",
   "metadata": {},
   "outputs": [],
   "source": [
    "traw = Table.read('../data/asset1_transactions.csv', format='ascii.csv')"
   ]
  },
  {
   "cell_type": "code",
   "execution_count": 20,
   "id": "2f0a01db",
   "metadata": {},
   "outputs": [
    {
     "data": {
      "text/plain": [
       "<Time object: scale='utc' format='iso' value=['2019-01-01 00:00:00.000' '2020-01-01 00:00:00.000'\n",
       " '2021-01-01 00:00:00.000']>"
      ]
     },
     "execution_count": 20,
     "metadata": {},
     "output_type": "execute_result"
    }
   ],
   "source": []
  },
  {
   "cell_type": "code",
   "execution_count": null,
   "id": "97e5ea52",
   "metadata": {},
   "outputs": [],
   "source": []
  }
 ],
 "metadata": {
  "kernelspec": {
   "display_name": "Python 3 (ipykernel)",
   "language": "python",
   "name": "python3"
  },
  "language_info": {
   "codemirror_mode": {
    "name": "ipython",
    "version": 3
   },
   "file_extension": ".py",
   "mimetype": "text/x-python",
   "name": "python",
   "nbconvert_exporter": "python",
   "pygments_lexer": "ipython3",
   "version": "3.8.8"
  }
 },
 "nbformat": 4,
 "nbformat_minor": 5
}
