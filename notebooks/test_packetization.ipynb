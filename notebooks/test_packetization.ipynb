{
 "cells": [
  {
   "cell_type": "code",
   "execution_count": 21,
   "id": "50103039",
   "metadata": {},
   "outputs": [],
   "source": [
    "from astropy.table import Table, MaskedColumn\n",
    "from astropy.time import Time\n",
    "import astropy.io.ascii\n",
    "import numpy as np"
   ]
  },
  {
   "cell_type": "code",
   "execution_count": 48,
   "id": "f0e8af89",
   "metadata": {},
   "outputs": [],
   "source": [
    "%run -b -i \"../python/calculator.py\""
   ]
  },
  {
   "cell_type": "code",
   "execution_count": 11,
   "id": "e7d31bc4",
   "metadata": {},
   "outputs": [],
   "source": [
    "traw = Table.read('../data/asset1_transactions.csv', format='ascii.csv', converters={\n",
    "                  'quantity': [astropy.io.ascii.convert_numpy(np.float64)],\n",
    "                  'unit price': [astropy.io.ascii.convert_numpy(np.float64)],\n",
    "                  'total price': [astropy.io.ascii.convert_numpy(np.float64)]})"
   ]
  },
  {
   "cell_type": "code",
   "execution_count": 12,
   "id": "9be730af",
   "metadata": {},
   "outputs": [],
   "source": [
    "vraw = Table.read('../data/asset1_values.csv', format='ascii.csv', converters={\n",
    "                  'price': [astropy.io.ascii.convert_numpy(np.float64)],})\n",
    "vraw['date'] = Time(vraw['date'])"
   ]
  },
  {
   "cell_type": "code",
   "execution_count": 13,
   "id": "9df7c0d4",
   "metadata": {},
   "outputs": [
    {
     "data": {
      "text/html": [
       "<i>Table length=3</i>\n",
       "<table id=\"table139706404346896\" class=\"table-striped table-bordered table-condensed\">\n",
       "<thead><tr><th>dateS</th><th>asset</th><th>type</th><th>quantity</th><th>unit price</th><th>total price</th><th>dateE</th></tr></thead>\n",
       "<thead><tr><th>object</th><th>str2</th><th>str4</th><th>float64</th><th>float64</th><th>float64</th><th>object</th></tr></thead>\n",
       "<tr><td>2019-01-01 00:00:00.000</td><td>A1</td><td>buy</td><td>5.0</td><td>2.0</td><td>10.0</td><td>--</td></tr>\n",
       "<tr><td>2020-01-01 00:00:00.000</td><td>A1</td><td>buy</td><td>10.0</td><td>3.0</td><td>30.0</td><td>--</td></tr>\n",
       "<tr><td>2021-01-01 00:00:00.000</td><td>A1</td><td>sell</td><td>1.0</td><td>5.0</td><td>5.0</td><td>--</td></tr>\n",
       "</table>"
      ],
      "text/plain": [
       "<Table length=3>\n",
       "         dateS          asset type quantity unit price total price dateE \n",
       "         object          str2 str4 float64   float64     float64   object\n",
       "----------------------- ----- ---- -------- ---------- ----------- ------\n",
       "2019-01-01 00:00:00.000    A1  buy      5.0        2.0        10.0     --\n",
       "2020-01-01 00:00:00.000    A1  buy     10.0        3.0        30.0     --\n",
       "2021-01-01 00:00:00.000    A1 sell      1.0        5.0         5.0     --"
      ]
     },
     "execution_count": 13,
     "metadata": {},
     "output_type": "execute_result"
    }
   ],
   "source": [
    "prepareRawTransactions(traw)"
   ]
  },
  {
   "cell_type": "code",
   "execution_count": 14,
   "id": "38a04df6",
   "metadata": {},
   "outputs": [],
   "source": [
    "packets = packetizeTransactions(traw, 'A1_')"
   ]
  },
  {
   "cell_type": "code",
   "execution_count": 15,
   "id": "81d1e6c6",
   "metadata": {},
   "outputs": [
    {
     "data": {
      "text/html": [
       "<i>Table length=3</i>\n",
       "<table id=\"table139706404344016\" class=\"table-striped table-bordered table-condensed\">\n",
       "<thead><tr><th>dateS</th><th>asset</th><th>quantity</th><th>priceS</th><th>dateE</th><th>priceE</th><th>packetId</th></tr></thead>\n",
       "<thead><tr><th>object</th><th>str2</th><th>float64</th><th>float64</th><th>object</th><th>float64</th><th>bytes20</th></tr></thead>\n",
       "<tr><td>2019-01-01 00:00:00.000</td><td>A1</td><td>1.0</td><td>2.0</td><td>2021-01-01 00:00:00.000</td><td>5.0</td><td>A1_001</td></tr>\n",
       "<tr><td>2019-01-01 00:00:00.000</td><td>A1</td><td>4.0</td><td>2.0</td><td>--</td><td>--</td><td>A1_003</td></tr>\n",
       "<tr><td>2020-01-01 00:00:00.000</td><td>A1</td><td>10.0</td><td>3.0</td><td>--</td><td>--</td><td>A1_002</td></tr>\n",
       "</table>"
      ],
      "text/plain": [
       "<Table length=3>\n",
       "         dateS          asset quantity  priceS          dateE           priceE packetId\n",
       "         object          str2 float64  float64          object         float64 bytes20 \n",
       "----------------------- ----- -------- ------- ----------------------- ------- --------\n",
       "2019-01-01 00:00:00.000    A1      1.0     2.0 2021-01-01 00:00:00.000     5.0   A1_001\n",
       "2019-01-01 00:00:00.000    A1      4.0     2.0                      --      --   A1_003\n",
       "2020-01-01 00:00:00.000    A1     10.0     3.0                      --      --   A1_002"
      ]
     },
     "execution_count": 15,
     "metadata": {},
     "output_type": "execute_result"
    }
   ],
   "source": [
    "packets"
   ]
  },
  {
   "cell_type": "code",
   "execution_count": 20,
   "id": "0eccc95c",
   "metadata": {},
   "outputs": [
    {
     "data": {
      "text/plain": [
       "dtype([('dateS', 'O'), ('asset', '<U2'), ('quantity', '<f8'), ('priceS', '<f8'), ('dateE', 'O'), ('priceE', '<f8'), ('pId', '<i8')])"
      ]
     },
     "execution_count": 20,
     "metadata": {},
     "output_type": "execute_result"
    }
   ],
   "source": [
    "packets.dtype"
   ]
  },
  {
   "cell_type": "markdown",
   "id": "73cd73a1",
   "metadata": {},
   "source": [
    "\n",
    "------"
   ]
  },
  {
   "cell_type": "markdown",
   "id": "cd3249b8",
   "metadata": {},
   "source": [
    "### Small sales for 1 buy transaction"
   ]
  },
  {
   "cell_type": "code",
   "execution_count": 52,
   "id": "801cc1e1",
   "metadata": {},
   "outputs": [],
   "source": [
    "traw = Table.read('../data/test1_smallsales.csv', format='ascii.csv', converters={\n",
    "                  'quantity': [astropy.io.ascii.convert_numpy(np.float64)],\n",
    "                  'unit price': [astropy.io.ascii.convert_numpy(np.float64)],\n",
    "                  'total price': [astropy.io.ascii.convert_numpy(np.float64)]})"
   ]
  },
  {
   "cell_type": "code",
   "execution_count": 53,
   "id": "5fe0ee3a",
   "metadata": {},
   "outputs": [
    {
     "data": {
      "text/html": [
       "<i>Table length=12</i>\n",
       "<table id=\"table139706390162736\" class=\"table-striped table-bordered table-condensed\">\n",
       "<thead><tr><th>dateS</th><th>asset</th><th>type</th><th>quantity</th><th>unit price</th><th>total price</th><th>dateE</th></tr></thead>\n",
       "<thead><tr><th>object</th><th>str2</th><th>str4</th><th>float64</th><th>float64</th><th>float64</th><th>object</th></tr></thead>\n",
       "<tr><td>2019-01-01 00:00:00.000</td><td>A1</td><td>buy</td><td>5.0</td><td>2.0</td><td>10.0</td><td>--</td></tr>\n",
       "<tr><td>2020-01-01 00:00:00.000</td><td>A1</td><td>buy</td><td>10.0</td><td>3.0</td><td>30.0</td><td>--</td></tr>\n",
       "<tr><td>2021-01-01 00:00:00.000</td><td>A1</td><td>sell</td><td>1.0</td><td>5.0</td><td>5.0</td><td>--</td></tr>\n",
       "<tr><td>2021-02-01 00:00:00.000</td><td>A1</td><td>sell</td><td>1.0</td><td>5.0</td><td>5.0</td><td>--</td></tr>\n",
       "<tr><td>2021-03-01 00:00:00.000</td><td>A1</td><td>sell</td><td>1.0</td><td>5.0</td><td>5.0</td><td>--</td></tr>\n",
       "<tr><td>2021-04-01 00:00:00.000</td><td>A1</td><td>sell</td><td>1.0</td><td>5.0</td><td>5.0</td><td>--</td></tr>\n",
       "<tr><td>2021-05-01 00:00:00.000</td><td>A1</td><td>sell</td><td>1.0</td><td>5.0</td><td>5.0</td><td>--</td></tr>\n",
       "<tr><td>2021-06-01 00:00:00.000</td><td>A1</td><td>sell</td><td>1.0</td><td>5.0</td><td>5.0</td><td>--</td></tr>\n",
       "<tr><td>2021-07-01 00:00:00.000</td><td>A1</td><td>sell</td><td>1.0</td><td>5.0</td><td>5.0</td><td>--</td></tr>\n",
       "<tr><td>2021-08-01 00:00:00.000</td><td>A1</td><td>sell</td><td>1.0</td><td>5.0</td><td>5.0</td><td>--</td></tr>\n",
       "<tr><td>2021-09-01 00:00:00.000</td><td>A1</td><td>sell</td><td>1.0</td><td>5.0</td><td>5.0</td><td>--</td></tr>\n",
       "<tr><td>2021-10-01 00:00:00.000</td><td>A1</td><td>sell</td><td>1.0</td><td>5.0</td><td>5.0</td><td>--</td></tr>\n",
       "</table>"
      ],
      "text/plain": [
       "<Table length=12>\n",
       "         dateS          asset type quantity unit price total price dateE \n",
       "         object          str2 str4 float64   float64     float64   object\n",
       "----------------------- ----- ---- -------- ---------- ----------- ------\n",
       "2019-01-01 00:00:00.000    A1  buy      5.0        2.0        10.0     --\n",
       "2020-01-01 00:00:00.000    A1  buy     10.0        3.0        30.0     --\n",
       "2021-01-01 00:00:00.000    A1 sell      1.0        5.0         5.0     --\n",
       "2021-02-01 00:00:00.000    A1 sell      1.0        5.0         5.0     --\n",
       "2021-03-01 00:00:00.000    A1 sell      1.0        5.0         5.0     --\n",
       "2021-04-01 00:00:00.000    A1 sell      1.0        5.0         5.0     --\n",
       "2021-05-01 00:00:00.000    A1 sell      1.0        5.0         5.0     --\n",
       "2021-06-01 00:00:00.000    A1 sell      1.0        5.0         5.0     --\n",
       "2021-07-01 00:00:00.000    A1 sell      1.0        5.0         5.0     --\n",
       "2021-08-01 00:00:00.000    A1 sell      1.0        5.0         5.0     --\n",
       "2021-09-01 00:00:00.000    A1 sell      1.0        5.0         5.0     --\n",
       "2021-10-01 00:00:00.000    A1 sell      1.0        5.0         5.0     --"
      ]
     },
     "execution_count": 53,
     "metadata": {},
     "output_type": "execute_result"
    }
   ],
   "source": [
    "vraw = Table.read('../data/asset1_values.csv', format='ascii.csv', converters={\n",
    "                  'price': [astropy.io.ascii.convert_numpy(np.float64)],})\n",
    "vraw['date'] = Time(vraw['date'])\n",
    "prepareRawTransactions(traw)"
   ]
  },
  {
   "cell_type": "code",
   "execution_count": 75,
   "id": "3114dee0",
   "metadata": {},
   "outputs": [
    {
     "name": "stdout",
     "output_type": "stream",
     "text": [
      "======\n",
      "Sale 2021-01-01:1.0@5.0 -> \n",
      "Buys \n",
      "2019-01-01:5.0@2.0\n",
      "2020-01-01:10.0@3.0\n",
      "Using buy 0\n",
      "Remaining from buy : 4.0\n",
      "======\n",
      "Sale 2021-02-01:1.0@5.0 -> \n",
      "Buys \n",
      "2019-01-01:4.0@2.0\n",
      "2020-01-01:10.0@3.0\n",
      "Using buy 0\n",
      "Remaining from buy : 3.0\n",
      "======\n",
      "Sale 2021-03-01:1.0@5.0 -> \n",
      "Buys \n",
      "2019-01-01:3.0@2.0\n",
      "2020-01-01:10.0@3.0\n",
      "Using buy 0\n",
      "Remaining from buy : 2.0\n",
      "======\n",
      "Sale 2021-04-01:1.0@5.0 -> \n",
      "Buys \n",
      "2019-01-01:2.0@2.0\n",
      "2020-01-01:10.0@3.0\n",
      "Using buy 0\n",
      "Remaining from buy : 1.0\n",
      "======\n",
      "Sale 2021-05-01:1.0@5.0 -> \n",
      "Buys \n",
      "2019-01-01:1.0@2.0\n",
      "2020-01-01:10.0@3.0\n",
      "Using buy 0\n",
      "======\n",
      "Sale 2021-06-01:1.0@5.0 -> \n",
      "Buys \n",
      "2020-01-01:10.0@3.0\n",
      "Using buy 0\n",
      "Remaining from buy : 9.0\n",
      "======\n",
      "Sale 2021-07-01:1.0@5.0 -> \n",
      "Buys \n",
      "2020-01-01:9.0@3.0\n",
      "Using buy 0\n",
      "Remaining from buy : 8.0\n",
      "======\n",
      "Sale 2021-08-01:1.0@5.0 -> \n",
      "Buys \n",
      "2020-01-01:8.0@3.0\n",
      "Using buy 0\n",
      "Remaining from buy : 7.0\n",
      "======\n",
      "Sale 2021-09-01:1.0@5.0 -> \n",
      "Buys \n",
      "2020-01-01:7.0@3.0\n",
      "Using buy 0\n",
      "Remaining from buy : 6.0\n",
      "======\n",
      "Sale 2021-10-01:1.0@5.0 -> \n",
      "Buys \n",
      "2020-01-01:6.0@3.0\n",
      "Using buy 0\n",
      "Remaining from buy : 5.0\n"
     ]
    }
   ],
   "source": [
    "packets = packetizeTransactions(traw, 'A1_')"
   ]
  },
  {
   "cell_type": "code",
   "execution_count": 76,
   "id": "9cd78946",
   "metadata": {},
   "outputs": [
    {
     "data": {
      "text/html": [
       "<i>Table length=11</i>\n",
       "<table id=\"table139706362137760\" class=\"table-striped table-bordered table-condensed\">\n",
       "<thead><tr><th>dateS</th><th>asset</th><th>quantity</th><th>priceS</th><th>dateE</th><th>priceE</th><th>packetId</th></tr></thead>\n",
       "<thead><tr><th>object</th><th>str2</th><th>float64</th><th>float64</th><th>object</th><th>float64</th><th>bytes20</th></tr></thead>\n",
       "<tr><td>2019-01-01 00:00:00.000</td><td>A1</td><td>1.0</td><td>2.0</td><td>2021-01-01 00:00:00.000</td><td>5.0</td><td>A1_001</td></tr>\n",
       "<tr><td>2019-01-01 00:00:00.000</td><td>A1</td><td>1.0</td><td>2.0</td><td>2021-02-01 00:00:00.000</td><td>5.0</td><td>A1_003</td></tr>\n",
       "<tr><td>2019-01-01 00:00:00.000</td><td>A1</td><td>1.0</td><td>2.0</td><td>2021-03-01 00:00:00.000</td><td>5.0</td><td>A1_004</td></tr>\n",
       "<tr><td>2019-01-01 00:00:00.000</td><td>A1</td><td>1.0</td><td>2.0</td><td>2021-04-01 00:00:00.000</td><td>5.0</td><td>A1_005</td></tr>\n",
       "<tr><td>2019-01-01 00:00:00.000</td><td>A1</td><td>1.0</td><td>2.0</td><td>2021-05-01 00:00:00.000</td><td>5.0</td><td>A1_006</td></tr>\n",
       "<tr><td>2020-01-01 00:00:00.000</td><td>A1</td><td>1.0</td><td>3.0</td><td>2021-06-01 00:00:00.000</td><td>5.0</td><td>A1_002</td></tr>\n",
       "<tr><td>2020-01-01 00:00:00.000</td><td>A1</td><td>1.0</td><td>3.0</td><td>2021-07-01 00:00:00.000</td><td>5.0</td><td>A1_007</td></tr>\n",
       "<tr><td>2020-01-01 00:00:00.000</td><td>A1</td><td>1.0</td><td>3.0</td><td>2021-08-01 00:00:00.000</td><td>5.0</td><td>A1_008</td></tr>\n",
       "<tr><td>2020-01-01 00:00:00.000</td><td>A1</td><td>1.0</td><td>3.0</td><td>2021-09-01 00:00:00.000</td><td>5.0</td><td>A1_009</td></tr>\n",
       "<tr><td>2020-01-01 00:00:00.000</td><td>A1</td><td>1.0</td><td>3.0</td><td>2021-10-01 00:00:00.000</td><td>5.0</td><td>A1_010</td></tr>\n",
       "<tr><td>2020-01-01 00:00:00.000</td><td>A1</td><td>5.0</td><td>3.0</td><td>--</td><td>--</td><td>A1_011</td></tr>\n",
       "</table>"
      ],
      "text/plain": [
       "<Table length=11>\n",
       "         dateS          asset quantity  priceS          dateE           priceE packetId\n",
       "         object          str2 float64  float64          object         float64 bytes20 \n",
       "----------------------- ----- -------- ------- ----------------------- ------- --------\n",
       "2019-01-01 00:00:00.000    A1      1.0     2.0 2021-01-01 00:00:00.000     5.0   A1_001\n",
       "2019-01-01 00:00:00.000    A1      1.0     2.0 2021-02-01 00:00:00.000     5.0   A1_003\n",
       "2019-01-01 00:00:00.000    A1      1.0     2.0 2021-03-01 00:00:00.000     5.0   A1_004\n",
       "2019-01-01 00:00:00.000    A1      1.0     2.0 2021-04-01 00:00:00.000     5.0   A1_005\n",
       "2019-01-01 00:00:00.000    A1      1.0     2.0 2021-05-01 00:00:00.000     5.0   A1_006\n",
       "2020-01-01 00:00:00.000    A1      1.0     3.0 2021-06-01 00:00:00.000     5.0   A1_002\n",
       "2020-01-01 00:00:00.000    A1      1.0     3.0 2021-07-01 00:00:00.000     5.0   A1_007\n",
       "2020-01-01 00:00:00.000    A1      1.0     3.0 2021-08-01 00:00:00.000     5.0   A1_008\n",
       "2020-01-01 00:00:00.000    A1      1.0     3.0 2021-09-01 00:00:00.000     5.0   A1_009\n",
       "2020-01-01 00:00:00.000    A1      1.0     3.0 2021-10-01 00:00:00.000     5.0   A1_010\n",
       "2020-01-01 00:00:00.000    A1      5.0     3.0                      --      --   A1_011"
      ]
     },
     "execution_count": 76,
     "metadata": {},
     "output_type": "execute_result"
    }
   ],
   "source": [
    "packets"
   ]
  },
  {
   "cell_type": "code",
   "execution_count": 79,
   "id": "8b81d75c",
   "metadata": {},
   "outputs": [],
   "source": [
    "x = packets['dateE'].filled(fill_value=Time(\"2050-01-01\"))"
   ]
  },
  {
   "cell_type": "code",
   "execution_count": 84,
   "id": "4b1b86fa",
   "metadata": {},
   "outputs": [],
   "source": [
    "x = Time(x)"
   ]
  },
  {
   "cell_type": "code",
   "execution_count": 86,
   "id": "de9cfefe",
   "metadata": {},
   "outputs": [
    {
     "data": {
      "text/plain": [
       "<Time object: scale='utc' format='iso' value=['2021-01-01 00:00:00.000' '2021-02-01 00:00:00.000'\n",
       " '2021-03-01 00:00:00.000' '2021-04-01 00:00:00.000'\n",
       " '2021-05-01 00:00:00.000' '2021-06-01 00:00:00.000'\n",
       " '2021-07-01 00:00:00.000' '2021-08-01 00:00:00.000'\n",
       " '2021-09-01 00:00:00.000' '2021-10-01 00:00:00.000'\n",
       " '2050-01-01 00:00:00.000']>"
      ]
     },
     "execution_count": 86,
     "metadata": {},
     "output_type": "execute_result"
    }
   ],
   "source": [
    "x"
   ]
  },
  {
   "cell_type": "code",
   "execution_count": 72,
   "id": "10704bee",
   "metadata": {},
   "outputs": [],
   "source": [
    "packets['dateE'] = Time(packets['dateE'].filled(fill_value=Time(\"2050-01-01\")))"
   ]
  },
  {
   "cell_type": "code",
   "execution_count": 74,
   "id": "54d13e71",
   "metadata": {},
   "outputs": [
    {
     "data": {
      "text/html": [
       "<i>Table length=11</i>\n",
       "<table id=\"table139706389786288\" class=\"table-striped table-bordered table-condensed\">\n",
       "<thead><tr><th>dateS</th><th>asset</th><th>quantity</th><th>priceS</th><th>dateE</th><th>priceE</th><th>packetId</th></tr></thead>\n",
       "<thead><tr><th>object</th><th>str2</th><th>float64</th><th>float64</th><th>object</th><th>float64</th><th>bytes20</th></tr></thead>\n",
       "<tr><td>2019-01-01</td><td>A1</td><td>1.0</td><td>2.0</td><td>2021-01-01</td><td>5.0</td><td>A1_001</td></tr>\n",
       "<tr><td>2019-01-01</td><td>A1</td><td>1.0</td><td>2.0</td><td>2021-02-01</td><td>5.0</td><td>A1_003</td></tr>\n",
       "<tr><td>2019-01-01</td><td>A1</td><td>1.0</td><td>2.0</td><td>2021-03-01</td><td>5.0</td><td>A1_004</td></tr>\n",
       "<tr><td>2019-01-01</td><td>A1</td><td>1.0</td><td>2.0</td><td>2021-04-01</td><td>5.0</td><td>A1_005</td></tr>\n",
       "<tr><td>2019-01-01</td><td>A1</td><td>1.0</td><td>2.0</td><td>2021-05-01</td><td>5.0</td><td>A1_006</td></tr>\n",
       "<tr><td>2020-01-01</td><td>A1</td><td>1.0</td><td>3.0</td><td>2021-06-01</td><td>5.0</td><td>A1_002</td></tr>\n",
       "<tr><td>2020-01-01</td><td>A1</td><td>1.0</td><td>3.0</td><td>2021-07-01</td><td>5.0</td><td>A1_007</td></tr>\n",
       "<tr><td>2020-01-01</td><td>A1</td><td>1.0</td><td>3.0</td><td>2021-08-01</td><td>5.0</td><td>A1_008</td></tr>\n",
       "<tr><td>2020-01-01</td><td>A1</td><td>1.0</td><td>3.0</td><td>2021-09-01</td><td>5.0</td><td>A1_009</td></tr>\n",
       "<tr><td>2020-01-01</td><td>A1</td><td>1.0</td><td>3.0</td><td>2021-10-01</td><td>5.0</td><td>A1_010</td></tr>\n",
       "<tr><td>2020-01-01</td><td>A1</td><td>5.0</td><td>3.0</td><td>2050-01-01</td><td>--</td><td>A1_011</td></tr>\n",
       "</table>"
      ],
      "text/plain": [
       "<Table length=11>\n",
       "  dateS    asset quantity  priceS   dateE     priceE packetId\n",
       "  object    str2 float64  float64   object   float64 bytes20 \n",
       "---------- ----- -------- ------- ---------- ------- --------\n",
       "2019-01-01    A1      1.0     2.0 2021-01-01     5.0   A1_001\n",
       "2019-01-01    A1      1.0     2.0 2021-02-01     5.0   A1_003\n",
       "2019-01-01    A1      1.0     2.0 2021-03-01     5.0   A1_004\n",
       "2019-01-01    A1      1.0     2.0 2021-04-01     5.0   A1_005\n",
       "2019-01-01    A1      1.0     2.0 2021-05-01     5.0   A1_006\n",
       "2020-01-01    A1      1.0     3.0 2021-06-01     5.0   A1_002\n",
       "2020-01-01    A1      1.0     3.0 2021-07-01     5.0   A1_007\n",
       "2020-01-01    A1      1.0     3.0 2021-08-01     5.0   A1_008\n",
       "2020-01-01    A1      1.0     3.0 2021-09-01     5.0   A1_009\n",
       "2020-01-01    A1      1.0     3.0 2021-10-01     5.0   A1_010\n",
       "2020-01-01    A1      5.0     3.0 2050-01-01      --   A1_011"
      ]
     },
     "execution_count": 74,
     "metadata": {},
     "output_type": "execute_result"
    }
   ],
   "source": [
    "packets"
   ]
  },
  {
   "cell_type": "markdown",
   "id": "4c228c86",
   "metadata": {},
   "source": [
    "\n",
    "------"
   ]
  },
  {
   "cell_type": "markdown",
   "id": "86c35c51",
   "metadata": {},
   "source": [
    "### Small buyes for 1 sale transaction"
   ]
  },
  {
   "cell_type": "code",
   "execution_count": 49,
   "id": "bb3a8001",
   "metadata": {},
   "outputs": [],
   "source": [
    "traw = Table.read('../data/test2_smallbuys.csv', format='ascii.csv', converters={\n",
    "                  'quantity': [astropy.io.ascii.convert_numpy(np.float64)],\n",
    "                  'unit price': [astropy.io.ascii.convert_numpy(np.float64)],\n",
    "                  'total price': [astropy.io.ascii.convert_numpy(np.float64)]})"
   ]
  },
  {
   "cell_type": "code",
   "execution_count": 50,
   "id": "6c989082",
   "metadata": {},
   "outputs": [
    {
     "data": {
      "text/html": [
       "<i>Table length=8</i>\n",
       "<table id=\"table139706390715936\" class=\"table-striped table-bordered table-condensed\">\n",
       "<thead><tr><th>dateS</th><th>asset</th><th>type</th><th>quantity</th><th>unit price</th><th>total price</th><th>dateE</th></tr></thead>\n",
       "<thead><tr><th>object</th><th>str2</th><th>str4</th><th>float64</th><th>float64</th><th>float64</th><th>object</th></tr></thead>\n",
       "<tr><td>2019-01-01 00:00:00.000</td><td>A1</td><td>buy</td><td>1.0</td><td>2.0</td><td>10.0</td><td>--</td></tr>\n",
       "<tr><td>2019-02-01 00:00:00.000</td><td>A1</td><td>buy</td><td>1.0</td><td>2.0</td><td>10.0</td><td>--</td></tr>\n",
       "<tr><td>2019-03-01 00:00:00.000</td><td>A1</td><td>buy</td><td>1.0</td><td>2.0</td><td>10.0</td><td>--</td></tr>\n",
       "<tr><td>2019-04-01 00:00:00.000</td><td>A1</td><td>buy</td><td>1.0</td><td>2.0</td><td>10.0</td><td>--</td></tr>\n",
       "<tr><td>2019-05-01 00:00:00.000</td><td>A1</td><td>buy</td><td>1.0</td><td>2.0</td><td>10.0</td><td>--</td></tr>\n",
       "<tr><td>2020-01-01 00:00:00.000</td><td>A1</td><td>buy</td><td>10.0</td><td>3.0</td><td>30.0</td><td>--</td></tr>\n",
       "<tr><td>2021-01-01 00:00:00.000</td><td>A1</td><td>sell</td><td>5.0</td><td>5.0</td><td>5.0</td><td>--</td></tr>\n",
       "<tr><td>2021-02-01 00:00:00.000</td><td>A1</td><td>sell</td><td>11.0</td><td>5.0</td><td>5.0</td><td>--</td></tr>\n",
       "</table>"
      ],
      "text/plain": [
       "<Table length=8>\n",
       "         dateS          asset type quantity unit price total price dateE \n",
       "         object          str2 str4 float64   float64     float64   object\n",
       "----------------------- ----- ---- -------- ---------- ----------- ------\n",
       "2019-01-01 00:00:00.000    A1  buy      1.0        2.0        10.0     --\n",
       "2019-02-01 00:00:00.000    A1  buy      1.0        2.0        10.0     --\n",
       "2019-03-01 00:00:00.000    A1  buy      1.0        2.0        10.0     --\n",
       "2019-04-01 00:00:00.000    A1  buy      1.0        2.0        10.0     --\n",
       "2019-05-01 00:00:00.000    A1  buy      1.0        2.0        10.0     --\n",
       "2020-01-01 00:00:00.000    A1  buy     10.0        3.0        30.0     --\n",
       "2021-01-01 00:00:00.000    A1 sell      5.0        5.0         5.0     --\n",
       "2021-02-01 00:00:00.000    A1 sell     11.0        5.0         5.0     --"
      ]
     },
     "execution_count": 50,
     "metadata": {},
     "output_type": "execute_result"
    }
   ],
   "source": [
    "vraw = Table.read('../data/asset1_values.csv', format='ascii.csv', converters={\n",
    "                  'price': [astropy.io.ascii.convert_numpy(np.float64)],})\n",
    "vraw['date'] = Time(vraw['date'])\n",
    "prepareRawTransactions(traw)"
   ]
  },
  {
   "cell_type": "code",
   "execution_count": 51,
   "id": "32b4a9e0",
   "metadata": {},
   "outputs": [
    {
     "name": "stdout",
     "output_type": "stream",
     "text": [
      "======\n",
      "Sale 2021-01-01:5.0@5.0 -> \n",
      "Buys \n",
      "2019-01-01:1.0@2.0\n",
      "2019-02-01:1.0@2.0\n",
      "2019-03-01:1.0@2.0\n",
      "2019-04-01:1.0@2.0\n",
      "2019-05-01:1.0@2.0\n",
      "2020-01-01:10.0@3.0\n",
      "Using buy 0\n",
      "Still to sale 4.0\n",
      "Using buy 1\n",
      "Still to sale 3.0\n",
      "Using buy 2\n",
      "Still to sale 2.0\n",
      "Using buy 3\n",
      "Still to sale 1.0\n",
      "Using buy 4\n",
      "======\n",
      "Sale 2021-02-01:11.0@5.0 -> \n",
      "Buys \n",
      "2020-01-01:10.0@3.0\n",
      "Using buy 0\n",
      "Still to sale 1.0\n",
      "Using buy 1\n"
     ]
    },
    {
     "ename": "ValueError",
     "evalue": "Data error - No more buy transaction to match sale.",
     "output_type": "error",
     "traceback": [
      "\u001b[0;31m---------------------------------------------------------------------------\u001b[0m",
      "\u001b[0;31mValueError\u001b[0m                                Traceback (most recent call last)",
      "\u001b[0;32m/tmp/ipykernel_23816/1092943686.py\u001b[0m in \u001b[0;36m<module>\u001b[0;34m\u001b[0m\n\u001b[0;32m----> 1\u001b[0;31m \u001b[0mpackets\u001b[0m \u001b[0;34m=\u001b[0m \u001b[0mpacketizeTransactions\u001b[0m\u001b[0;34m(\u001b[0m\u001b[0mtraw\u001b[0m\u001b[0;34m,\u001b[0m \u001b[0;34m'A1_'\u001b[0m\u001b[0;34m)\u001b[0m\u001b[0;34m\u001b[0m\u001b[0;34m\u001b[0m\u001b[0m\n\u001b[0m",
      "\u001b[0;32m/ssd/gkovacs/devel/f8621_mtm_calculator/python/calculator.py\u001b[0m in \u001b[0;36mpacketizeTransactions\u001b[0;34m(traw, assetPrefix)\u001b[0m\n\u001b[1;32m     97\u001b[0m             \u001b[0mprint\u001b[0m\u001b[0;34m(\u001b[0m\u001b[0;34mf\"Using buy {ii}\"\u001b[0m\u001b[0;34m)\u001b[0m\u001b[0;34m\u001b[0m\u001b[0;34m\u001b[0m\u001b[0m\n\u001b[1;32m     98\u001b[0m             \u001b[0;32mif\u001b[0m \u001b[0mlen\u001b[0m\u001b[0;34m(\u001b[0m\u001b[0mi_unclosed\u001b[0m\u001b[0;34m)\u001b[0m \u001b[0;34m<=\u001b[0m \u001b[0mii\u001b[0m\u001b[0;34m:\u001b[0m\u001b[0;34m\u001b[0m\u001b[0;34m\u001b[0m\u001b[0m\n\u001b[0;32m---> 99\u001b[0;31m                 \u001b[0;32mraise\u001b[0m \u001b[0mValueError\u001b[0m\u001b[0;34m(\u001b[0m\u001b[0;34m\"Data error - No more buy transaction to match sale.\"\u001b[0m\u001b[0;34m)\u001b[0m\u001b[0;34m\u001b[0m\u001b[0;34m\u001b[0m\u001b[0m\n\u001b[0m\u001b[1;32m    100\u001b[0m             \u001b[0mirec\u001b[0m \u001b[0;34m=\u001b[0m \u001b[0mi_unclosed\u001b[0m\u001b[0;34m[\u001b[0m\u001b[0mii\u001b[0m\u001b[0;34m]\u001b[0m\u001b[0;34m\u001b[0m\u001b[0;34m\u001b[0m\u001b[0m\n\u001b[1;32m    101\u001b[0m             \u001b[0mpackets\u001b[0m\u001b[0;34m[\u001b[0m\u001b[0;34m'dateE'\u001b[0m\u001b[0;34m]\u001b[0m\u001b[0;34m.\u001b[0m\u001b[0mmask\u001b[0m\u001b[0;34m[\u001b[0m\u001b[0mirec\u001b[0m\u001b[0;34m]\u001b[0m \u001b[0;34m=\u001b[0m \u001b[0;32mFalse\u001b[0m\u001b[0;34m\u001b[0m\u001b[0;34m\u001b[0m\u001b[0m\n",
      "\u001b[0;31mValueError\u001b[0m: Data error - No more buy transaction to match sale."
     ]
    }
   ],
   "source": [
    "packets = packetizeTransactions(traw, 'A1_')"
   ]
  },
  {
   "cell_type": "code",
   "execution_count": 30,
   "id": "bfbf78c8",
   "metadata": {},
   "outputs": [
    {
     "data": {
      "text/html": [
       "<i>Table length=6</i>\n",
       "<table id=\"table139706404344064\" class=\"table-striped table-bordered table-condensed\">\n",
       "<thead><tr><th>dateS</th><th>asset</th><th>quantity</th><th>priceS</th><th>dateE</th><th>priceE</th><th>packetId</th></tr></thead>\n",
       "<thead><tr><th>object</th><th>str2</th><th>float64</th><th>float64</th><th>object</th><th>float64</th><th>bytes20</th></tr></thead>\n",
       "<tr><td>2019-01-01 00:00:00.000</td><td>A1</td><td>1.0</td><td>2.0</td><td>2021-01-01 00:00:00.000</td><td>5.0</td><td>A1_001</td></tr>\n",
       "<tr><td>2019-02-01 00:00:00.000</td><td>A1</td><td>1.0</td><td>2.0</td><td>2021-01-01 00:00:00.000</td><td>5.0</td><td>A1_002</td></tr>\n",
       "<tr><td>2019-03-01 00:00:00.000</td><td>A1</td><td>1.0</td><td>2.0</td><td>2021-01-01 00:00:00.000</td><td>5.0</td><td>A1_003</td></tr>\n",
       "<tr><td>2019-04-01 00:00:00.000</td><td>A1</td><td>1.0</td><td>2.0</td><td>2021-01-01 00:00:00.000</td><td>5.0</td><td>A1_004</td></tr>\n",
       "<tr><td>2019-05-01 00:00:00.000</td><td>A1</td><td>1.0</td><td>2.0</td><td>2021-01-01 00:00:00.000</td><td>5.0</td><td>A1_005</td></tr>\n",
       "<tr><td>2020-01-01 00:00:00.000</td><td>A1</td><td>10.0</td><td>3.0</td><td>2021-02-01 00:00:00.000</td><td>5.0</td><td>A1_006</td></tr>\n",
       "</table>"
      ],
      "text/plain": [
       "<Table length=6>\n",
       "         dateS          asset quantity  priceS          dateE           priceE packetId\n",
       "         object          str2 float64  float64          object         float64 bytes20 \n",
       "----------------------- ----- -------- ------- ----------------------- ------- --------\n",
       "2019-01-01 00:00:00.000    A1      1.0     2.0 2021-01-01 00:00:00.000     5.0   A1_001\n",
       "2019-02-01 00:00:00.000    A1      1.0     2.0 2021-01-01 00:00:00.000     5.0   A1_002\n",
       "2019-03-01 00:00:00.000    A1      1.0     2.0 2021-01-01 00:00:00.000     5.0   A1_003\n",
       "2019-04-01 00:00:00.000    A1      1.0     2.0 2021-01-01 00:00:00.000     5.0   A1_004\n",
       "2019-05-01 00:00:00.000    A1      1.0     2.0 2021-01-01 00:00:00.000     5.0   A1_005\n",
       "2020-01-01 00:00:00.000    A1     10.0     3.0 2021-02-01 00:00:00.000     5.0   A1_006"
      ]
     },
     "execution_count": 30,
     "metadata": {},
     "output_type": "execute_result"
    }
   ],
   "source": [
    "packets"
   ]
  },
  {
   "cell_type": "code",
   "execution_count": 90,
   "id": "09083483",
   "metadata": {},
   "outputs": [],
   "source": [
    "?packets.copy"
   ]
  },
  {
   "cell_type": "code",
   "execution_count": 91,
   "id": "5b1b7393",
   "metadata": {},
   "outputs": [
    {
     "ename": "AttributeError",
     "evalue": "'Table' object has no attribute 'unique'",
     "output_type": "error",
     "traceback": [
      "\u001b[0;31m---------------------------------------------------------------------------\u001b[0m",
      "\u001b[0;31mAttributeError\u001b[0m                            Traceback (most recent call last)",
      "\u001b[0;32m/tmp/ipykernel_23816/1572357917.py\u001b[0m in \u001b[0;36m<module>\u001b[0;34m\u001b[0m\n\u001b[0;32m----> 1\u001b[0;31m \u001b[0mpackets\u001b[0m\u001b[0;34m.\u001b[0m\u001b[0munique\u001b[0m\u001b[0;34m\u001b[0m\u001b[0;34m\u001b[0m\u001b[0m\n\u001b[0m",
      "\u001b[0;31mAttributeError\u001b[0m: 'Table' object has no attribute 'unique'"
     ]
    }
   ],
   "source": [
    "packets.unique"
   ]
  },
  {
   "cell_type": "code",
   "execution_count": null,
   "id": "6329de86",
   "metadata": {},
   "outputs": [],
   "source": []
  }
 ],
 "metadata": {
  "kernelspec": {
   "display_name": "Python 3 (ipykernel)",
   "language": "python",
   "name": "python3"
  },
  "language_info": {
   "codemirror_mode": {
    "name": "ipython",
    "version": 3
   },
   "file_extension": ".py",
   "mimetype": "text/x-python",
   "name": "python",
   "nbconvert_exporter": "python",
   "pygments_lexer": "ipython3",
   "version": "3.8.8"
  }
 },
 "nbformat": 4,
 "nbformat_minor": 5
}
